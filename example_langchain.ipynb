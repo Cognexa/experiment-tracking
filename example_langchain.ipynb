{
 "cells": [
  {
   "cell_type": "markdown",
   "id": "87607bfc",
   "metadata": {},
   "source": [
    "# MLflow Example - Langchain\n",
    "\n",
    "## Quick example with OpenAI LLM:\n",
    "\n",
    "This is an example of using MLflow to track experiments and deploy models. We will use the Langchain track the model predictions for a given text."
   ]
  },
  {
   "cell_type": "code",
   "execution_count": 1,
   "id": "767eb2a0ee724eb3",
   "metadata": {
    "ExecuteTime": {
     "end_time": "2024-05-29T13:28:23.767814Z",
     "start_time": "2024-05-29T13:28:21.268711Z"
    }
   },
   "outputs": [],
   "source": [
    "import mlflow\n",
    "from langchain_openai import ChatOpenAI\n",
    "from langchain_core.prompts import PromptTemplate"
   ]
  },
  {
   "cell_type": "markdown",
   "id": "327a2e6e",
   "metadata": {},
   "source": [
    "### Prepare model and mlflow tracking\n",
    "\n",
    "Log everything manually... because you can"
   ]
  },
  {
   "cell_type": "code",
   "execution_count": null,
   "id": "94fa9298",
   "metadata": {},
   "outputs": [],
   "source": [
    "# Setup the mlflow connection\n",
    "\n",
    "mlflow_uri = \"http://192.168.30.21:8080/\"\n",
    "mlflow.set_tracking_uri(mlflow_uri)\n",
    "\n",
    "# Set the experiment name\n",
    "mlflow.set_experiment(\"BrutalExperiment\")  # maybe change to your own experiment\n"
   ]
  },
  {
   "cell_type": "code",
   "execution_count": null,
   "id": "1d616f4a9c989261",
   "metadata": {
    "ExecuteTime": {
     "end_time": "2024-05-29T13:28:31.848053Z",
     "start_time": "2024-05-29T13:28:23.771467Z"
    }
   },
   "outputs": [],
   "source": [
    "# # Load the .env file with OPENAI_API_KEY if not already set in the environment\n",
    "# import dotenv\n",
    "# dotenv.load_dotenv()\n",
    "\n",
    "# This will enable autologging for all the components in the LLM chain\n",
    "mlflow.langchain.autolog()\n",
    "\n",
    "\n",
    "# default is gpt-3.5-turbo, you can change it to gpt-4o for better results\n",
    "llm = ChatOpenAI(model=\"gpt-4o-mini\")\n",
    "prompt = PromptTemplate.from_template(\"Tell me something about {input} in {output_language}:\\n\")\n",
    "chain = prompt | llm\n",
    "\n",
    "with mlflow.start_run(run_name=\"test_run\"):  # mlflow.end_run() will be called automatically\n",
    "    # Invoking the chain will cause a trace to be logged\n",
    "    response = chain.invoke(\n",
    "        {\n",
    "            \"input\": \"Cognexa\",\n",
    "            \"output_language\": \"Slovak Language\",\n",
    "        }\n",
    "    )\n",
    "\n",
    "    print(response.content)\n",
    "\n",
    "    mlflow.log_metric(\n",
    "        \"tokens_used\",\n",
    "        response.response_metadata.get(\"token_usage\", {}).get(\"total_tokens\", 0),\n",
    "    )\n",
    "\n",
    "    mlflow.log_param(\n",
    "        \"model_used\",\n",
    "        response.response_metadata.get(\"model_name\"),\n",
    "    )\n",
    "\n",
    "    # mlflow.log_artifact(\"data.txt\")  # This will append file to the run"
   ]
  }
 ],
 "metadata": {
  "kernelspec": {
   "display_name": "Python 3",
   "language": "python",
   "name": "python3"
  },
  "language_info": {
   "codemirror_mode": {
    "name": "ipython",
    "version": 3
   },
   "file_extension": ".py",
   "mimetype": "text/x-python",
   "name": "python",
   "nbconvert_exporter": "python",
   "pygments_lexer": "ipython3",
   "version": "3.10.11"
  }
 },
 "nbformat": 4,
 "nbformat_minor": 5
}
