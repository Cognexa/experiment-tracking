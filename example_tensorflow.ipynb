{
 "cells": [
  {
   "cell_type": "markdown",
   "id": "87607bfc",
   "metadata": {},
   "source": [
    "# MLflow Example\n",
    "\n",
    "## Tensorflow Example\n",
    "\n",
    "This example demonstrates how to use MLflow to log and visualize the model training process with Tensorflow.\n",
    "https://mlflow.org/docs/latest/deep-learning/tensorflow/guide/index.html\n"
   ]
  },
  {
   "cell_type": "code",
   "execution_count": 1,
   "id": "767eb2a0ee724eb3",
   "metadata": {
    "ExecuteTime": {
     "end_time": "2024-05-29T13:28:23.767814Z",
     "start_time": "2024-05-29T13:28:21.268711Z"
    }
   },
   "outputs": [],
   "source": [
    "import mlflow\n",
    "import numpy as np\n",
    "import tensorflow as tf\n",
    "from tensorflow import keras\n"
   ]
  },
  {
   "cell_type": "code",
   "execution_count": null,
   "id": "1d616f4a9c989261",
   "metadata": {
    "ExecuteTime": {
     "end_time": "2024-05-29T13:28:31.848053Z",
     "start_time": "2024-05-29T13:28:23.771467Z"
    }
   },
   "outputs": [],
   "source": [
    "# make it easy with using the autolog function of all basic parameters\n",
    "mlflow.tensorflow.autolog()\n",
    "\n",
    "# Prepare data for a 2-class classification.\n",
    "data = np.random.uniform(size=[20, 28, 28, 3])\n",
    "label = np.random.randint(2, size=20)\n",
    "\n",
    "model = keras.Sequential(\n",
    "    [\n",
    "        keras.Input([28, 28, 3]),\n",
    "        keras.layers.Conv2D(8, 2),\n",
    "        keras.layers.MaxPool2D(2),\n",
    "        keras.layers.Flatten(),\n",
    "        keras.layers.Dense(2),\n",
    "        keras.layers.Softmax(),\n",
    "    ]\n",
    ")\n",
    "\n",
    "model.compile(\n",
    "    loss=keras.losses.SparseCategoricalCrossentropy(),\n",
    "    optimizer=keras.optimizers.Adam(0.001),\n",
    "    metrics=[keras.metrics.SparseCategoricalAccuracy()],\n",
    ")\n",
    "\n",
    "with mlflow.start_run():\n",
    "    model.fit(data, label, batch_size=5, epochs=2)"
   ]
  }
 ],
 "metadata": {
  "kernelspec": {
   "display_name": "Python 3",
   "language": "python",
   "name": "python3"
  },
  "language_info": {
   "codemirror_mode": {
    "name": "ipython",
    "version": 3
   },
   "file_extension": ".py",
   "mimetype": "text/x-python",
   "name": "python",
   "nbconvert_exporter": "python",
   "pygments_lexer": "ipython3",
   "version": "3.10.11"
  }
 },
 "nbformat": 4,
 "nbformat_minor": 5
}
